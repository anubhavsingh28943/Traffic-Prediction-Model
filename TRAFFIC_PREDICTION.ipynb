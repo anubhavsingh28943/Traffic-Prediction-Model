{
 "cells": [
  {
   "cell_type": "code",
   "execution_count": 1,
   "id": "60eaa768",
   "metadata": {},
   "outputs": [],
   "source": [
    "#importing Libraries\n",
    "import numpy as np\n",
    "import pandas as pd\n",
    "import matplotlib.pyplot as plt"
   ]
  },
  {
   "cell_type": "code",
   "execution_count": 2,
   "id": "a9be1e5c",
   "metadata": {},
   "outputs": [],
   "source": [
    "#import dataset\n",
    "data = pd.read_csv('DATASETNEW 1200 lines.csv')"
   ]
  },
  {
   "cell_type": "code",
   "execution_count": 3,
   "id": "cf62bb24",
   "metadata": {},
   "outputs": [
    {
     "data": {
      "text/html": [
       "<div>\n",
       "<style scoped>\n",
       "    .dataframe tbody tr th:only-of-type {\n",
       "        vertical-align: middle;\n",
       "    }\n",
       "\n",
       "    .dataframe tbody tr th {\n",
       "        vertical-align: top;\n",
       "    }\n",
       "\n",
       "    .dataframe thead th {\n",
       "        text-align: right;\n",
       "    }\n",
       "</style>\n",
       "<table border=\"1\" class=\"dataframe\">\n",
       "  <thead>\n",
       "    <tr style=\"text-align: right;\">\n",
       "      <th></th>\n",
       "      <th>Day</th>\n",
       "      <th>Date</th>\n",
       "      <th>CodedDay</th>\n",
       "      <th>Zone</th>\n",
       "      <th>Weather</th>\n",
       "      <th>Temperature</th>\n",
       "      <th>1</th>\n",
       "    </tr>\n",
       "  </thead>\n",
       "  <tbody>\n",
       "    <tr>\n",
       "      <th>0</th>\n",
       "      <td>Wednesday</td>\n",
       "      <td>06-01-2022</td>\n",
       "      <td>3</td>\n",
       "      <td>2</td>\n",
       "      <td>35</td>\n",
       "      <td>17</td>\n",
       "      <td>2</td>\n",
       "    </tr>\n",
       "    <tr>\n",
       "      <th>1</th>\n",
       "      <td>Wednesday</td>\n",
       "      <td>06-01-2022</td>\n",
       "      <td>3</td>\n",
       "      <td>3</td>\n",
       "      <td>36</td>\n",
       "      <td>16</td>\n",
       "      <td>3</td>\n",
       "    </tr>\n",
       "    <tr>\n",
       "      <th>2</th>\n",
       "      <td>Wednesday</td>\n",
       "      <td>06-01-2022</td>\n",
       "      <td>3</td>\n",
       "      <td>4</td>\n",
       "      <td>27</td>\n",
       "      <td>25</td>\n",
       "      <td>5</td>\n",
       "    </tr>\n",
       "    <tr>\n",
       "      <th>3</th>\n",
       "      <td>Wednesday</td>\n",
       "      <td>06-01-2022</td>\n",
       "      <td>3</td>\n",
       "      <td>5</td>\n",
       "      <td>23</td>\n",
       "      <td>23</td>\n",
       "      <td>3</td>\n",
       "    </tr>\n",
       "    <tr>\n",
       "      <th>4</th>\n",
       "      <td>Wednesday</td>\n",
       "      <td>06-01-2022</td>\n",
       "      <td>3</td>\n",
       "      <td>6</td>\n",
       "      <td>18</td>\n",
       "      <td>42</td>\n",
       "      <td>2</td>\n",
       "    </tr>\n",
       "    <tr>\n",
       "      <th>...</th>\n",
       "      <td>...</td>\n",
       "      <td>...</td>\n",
       "      <td>...</td>\n",
       "      <td>...</td>\n",
       "      <td>...</td>\n",
       "      <td>...</td>\n",
       "      <td>...</td>\n",
       "    </tr>\n",
       "    <tr>\n",
       "      <th>1194</th>\n",
       "      <td>Sunday</td>\n",
       "      <td>18-01-2022</td>\n",
       "      <td>7</td>\n",
       "      <td>25</td>\n",
       "      <td>25</td>\n",
       "      <td>21</td>\n",
       "      <td>4</td>\n",
       "    </tr>\n",
       "    <tr>\n",
       "      <th>1195</th>\n",
       "      <td>Sunday</td>\n",
       "      <td>18-01-2022</td>\n",
       "      <td>7</td>\n",
       "      <td>24</td>\n",
       "      <td>26</td>\n",
       "      <td>22</td>\n",
       "      <td>4</td>\n",
       "    </tr>\n",
       "    <tr>\n",
       "      <th>1196</th>\n",
       "      <td>Sunday</td>\n",
       "      <td>18-01-2022</td>\n",
       "      <td>7</td>\n",
       "      <td>23</td>\n",
       "      <td>24</td>\n",
       "      <td>23</td>\n",
       "      <td>4</td>\n",
       "    </tr>\n",
       "    <tr>\n",
       "      <th>1197</th>\n",
       "      <td>Sunday</td>\n",
       "      <td>18-01-2022</td>\n",
       "      <td>7</td>\n",
       "      <td>22</td>\n",
       "      <td>23</td>\n",
       "      <td>24</td>\n",
       "      <td>4</td>\n",
       "    </tr>\n",
       "    <tr>\n",
       "      <th>1198</th>\n",
       "      <td>Sunday</td>\n",
       "      <td>18-01-2022</td>\n",
       "      <td>7</td>\n",
       "      <td>21</td>\n",
       "      <td>22</td>\n",
       "      <td>25</td>\n",
       "      <td>4</td>\n",
       "    </tr>\n",
       "  </tbody>\n",
       "</table>\n",
       "<p>1199 rows × 7 columns</p>\n",
       "</div>"
      ],
      "text/plain": [
       "            Day        Date  CodedDay  Zone  Weather  Temperature  1\n",
       "0     Wednesday  06-01-2022         3     2       35           17  2\n",
       "1     Wednesday  06-01-2022         3     3       36           16  3\n",
       "2     Wednesday  06-01-2022         3     4       27           25  5\n",
       "3     Wednesday  06-01-2022         3     5       23           23  3\n",
       "4     Wednesday  06-01-2022         3     6       18           42  2\n",
       "...         ...         ...       ...   ...      ...          ... ..\n",
       "1194     Sunday  18-01-2022         7    25       25           21  4\n",
       "1195     Sunday  18-01-2022         7    24       26           22  4\n",
       "1196     Sunday  18-01-2022         7    23       24           23  4\n",
       "1197     Sunday  18-01-2022         7    22       23           24  4\n",
       "1198     Sunday  18-01-2022         7    21       22           25  4\n",
       "\n",
       "[1199 rows x 7 columns]"
      ]
     },
     "execution_count": 3,
     "metadata": {},
     "output_type": "execute_result"
    }
   ],
   "source": [
    "data"
   ]
  },
  {
   "cell_type": "code",
   "execution_count": 4,
   "id": "e56d5f9c",
   "metadata": {},
   "outputs": [
    {
     "data": {
      "text/html": [
       "<div>\n",
       "<style scoped>\n",
       "    .dataframe tbody tr th:only-of-type {\n",
       "        vertical-align: middle;\n",
       "    }\n",
       "\n",
       "    .dataframe tbody tr th {\n",
       "        vertical-align: top;\n",
       "    }\n",
       "\n",
       "    .dataframe thead th {\n",
       "        text-align: right;\n",
       "    }\n",
       "</style>\n",
       "<table border=\"1\" class=\"dataframe\">\n",
       "  <thead>\n",
       "    <tr style=\"text-align: right;\">\n",
       "      <th></th>\n",
       "      <th>Day</th>\n",
       "      <th>Date</th>\n",
       "      <th>CodedDay</th>\n",
       "      <th>Zone</th>\n",
       "      <th>Weather</th>\n",
       "      <th>Temperature</th>\n",
       "      <th>1</th>\n",
       "    </tr>\n",
       "  </thead>\n",
       "  <tbody>\n",
       "    <tr>\n",
       "      <th>0</th>\n",
       "      <td>Wednesday</td>\n",
       "      <td>06-01-2022</td>\n",
       "      <td>3</td>\n",
       "      <td>2</td>\n",
       "      <td>35</td>\n",
       "      <td>17</td>\n",
       "      <td>2</td>\n",
       "    </tr>\n",
       "    <tr>\n",
       "      <th>1</th>\n",
       "      <td>Wednesday</td>\n",
       "      <td>06-01-2022</td>\n",
       "      <td>3</td>\n",
       "      <td>3</td>\n",
       "      <td>36</td>\n",
       "      <td>16</td>\n",
       "      <td>3</td>\n",
       "    </tr>\n",
       "    <tr>\n",
       "      <th>2</th>\n",
       "      <td>Wednesday</td>\n",
       "      <td>06-01-2022</td>\n",
       "      <td>3</td>\n",
       "      <td>4</td>\n",
       "      <td>27</td>\n",
       "      <td>25</td>\n",
       "      <td>5</td>\n",
       "    </tr>\n",
       "    <tr>\n",
       "      <th>3</th>\n",
       "      <td>Wednesday</td>\n",
       "      <td>06-01-2022</td>\n",
       "      <td>3</td>\n",
       "      <td>5</td>\n",
       "      <td>23</td>\n",
       "      <td>23</td>\n",
       "      <td>3</td>\n",
       "    </tr>\n",
       "    <tr>\n",
       "      <th>4</th>\n",
       "      <td>Wednesday</td>\n",
       "      <td>06-01-2022</td>\n",
       "      <td>3</td>\n",
       "      <td>6</td>\n",
       "      <td>18</td>\n",
       "      <td>42</td>\n",
       "      <td>2</td>\n",
       "    </tr>\n",
       "    <tr>\n",
       "      <th>5</th>\n",
       "      <td>Wednesday</td>\n",
       "      <td>06-01-2022</td>\n",
       "      <td>3</td>\n",
       "      <td>7</td>\n",
       "      <td>11</td>\n",
       "      <td>14</td>\n",
       "      <td>2</td>\n",
       "    </tr>\n",
       "    <tr>\n",
       "      <th>6</th>\n",
       "      <td>Wednesday</td>\n",
       "      <td>06-01-2022</td>\n",
       "      <td>3</td>\n",
       "      <td>8</td>\n",
       "      <td>45</td>\n",
       "      <td>28</td>\n",
       "      <td>4</td>\n",
       "    </tr>\n",
       "    <tr>\n",
       "      <th>7</th>\n",
       "      <td>Wednesday</td>\n",
       "      <td>06-01-2022</td>\n",
       "      <td>3</td>\n",
       "      <td>9</td>\n",
       "      <td>39</td>\n",
       "      <td>18</td>\n",
       "      <td>5</td>\n",
       "    </tr>\n",
       "    <tr>\n",
       "      <th>8</th>\n",
       "      <td>Wednesday</td>\n",
       "      <td>06-01-2022</td>\n",
       "      <td>3</td>\n",
       "      <td>10</td>\n",
       "      <td>25</td>\n",
       "      <td>9</td>\n",
       "      <td>4</td>\n",
       "    </tr>\n",
       "    <tr>\n",
       "      <th>9</th>\n",
       "      <td>Wednesday</td>\n",
       "      <td>06-01-2022</td>\n",
       "      <td>3</td>\n",
       "      <td>11</td>\n",
       "      <td>39</td>\n",
       "      <td>7</td>\n",
       "      <td>5</td>\n",
       "    </tr>\n",
       "    <tr>\n",
       "      <th>10</th>\n",
       "      <td>Wednesday</td>\n",
       "      <td>06-01-2022</td>\n",
       "      <td>3</td>\n",
       "      <td>12</td>\n",
       "      <td>22</td>\n",
       "      <td>29</td>\n",
       "      <td>2</td>\n",
       "    </tr>\n",
       "    <tr>\n",
       "      <th>11</th>\n",
       "      <td>Wednesday</td>\n",
       "      <td>06-01-2022</td>\n",
       "      <td>3</td>\n",
       "      <td>13</td>\n",
       "      <td>16</td>\n",
       "      <td>29</td>\n",
       "      <td>2</td>\n",
       "    </tr>\n",
       "    <tr>\n",
       "      <th>12</th>\n",
       "      <td>Wednesday</td>\n",
       "      <td>06-01-2022</td>\n",
       "      <td>3</td>\n",
       "      <td>14</td>\n",
       "      <td>20</td>\n",
       "      <td>25</td>\n",
       "      <td>1</td>\n",
       "    </tr>\n",
       "    <tr>\n",
       "      <th>13</th>\n",
       "      <td>Wednesday</td>\n",
       "      <td>06-01-2022</td>\n",
       "      <td>3</td>\n",
       "      <td>15</td>\n",
       "      <td>39</td>\n",
       "      <td>31</td>\n",
       "      <td>3</td>\n",
       "    </tr>\n",
       "    <tr>\n",
       "      <th>14</th>\n",
       "      <td>Wednesday</td>\n",
       "      <td>06-01-2022</td>\n",
       "      <td>3</td>\n",
       "      <td>16</td>\n",
       "      <td>40</td>\n",
       "      <td>44</td>\n",
       "      <td>1</td>\n",
       "    </tr>\n",
       "    <tr>\n",
       "      <th>15</th>\n",
       "      <td>Wednesday</td>\n",
       "      <td>06-01-2022</td>\n",
       "      <td>3</td>\n",
       "      <td>17</td>\n",
       "      <td>4</td>\n",
       "      <td>34</td>\n",
       "      <td>4</td>\n",
       "    </tr>\n",
       "    <tr>\n",
       "      <th>16</th>\n",
       "      <td>Wednesday</td>\n",
       "      <td>06-01-2022</td>\n",
       "      <td>3</td>\n",
       "      <td>18</td>\n",
       "      <td>40</td>\n",
       "      <td>45</td>\n",
       "      <td>4</td>\n",
       "    </tr>\n",
       "    <tr>\n",
       "      <th>17</th>\n",
       "      <td>Wednesday</td>\n",
       "      <td>06-01-2022</td>\n",
       "      <td>3</td>\n",
       "      <td>19</td>\n",
       "      <td>5</td>\n",
       "      <td>32</td>\n",
       "      <td>4</td>\n",
       "    </tr>\n",
       "    <tr>\n",
       "      <th>18</th>\n",
       "      <td>Wednesday</td>\n",
       "      <td>06-01-2022</td>\n",
       "      <td>3</td>\n",
       "      <td>20</td>\n",
       "      <td>24</td>\n",
       "      <td>40</td>\n",
       "      <td>1</td>\n",
       "    </tr>\n",
       "    <tr>\n",
       "      <th>19</th>\n",
       "      <td>wednesday</td>\n",
       "      <td>06-01-2022</td>\n",
       "      <td>3</td>\n",
       "      <td>12</td>\n",
       "      <td>21</td>\n",
       "      <td>22</td>\n",
       "      <td>2</td>\n",
       "    </tr>\n",
       "    <tr>\n",
       "      <th>20</th>\n",
       "      <td>wednesday</td>\n",
       "      <td>06-01-2022</td>\n",
       "      <td>3</td>\n",
       "      <td>13</td>\n",
       "      <td>31</td>\n",
       "      <td>23</td>\n",
       "      <td>1</td>\n",
       "    </tr>\n",
       "    <tr>\n",
       "      <th>21</th>\n",
       "      <td>wednesday</td>\n",
       "      <td>06-01-2022</td>\n",
       "      <td>3</td>\n",
       "      <td>11</td>\n",
       "      <td>21</td>\n",
       "      <td>22</td>\n",
       "      <td>2</td>\n",
       "    </tr>\n",
       "    <tr>\n",
       "      <th>22</th>\n",
       "      <td>wednesday</td>\n",
       "      <td>06-01-2022</td>\n",
       "      <td>3</td>\n",
       "      <td>12</td>\n",
       "      <td>22</td>\n",
       "      <td>12</td>\n",
       "      <td>3</td>\n",
       "    </tr>\n",
       "    <tr>\n",
       "      <th>23</th>\n",
       "      <td>wednesday</td>\n",
       "      <td>06-01-2022</td>\n",
       "      <td>3</td>\n",
       "      <td>11</td>\n",
       "      <td>23</td>\n",
       "      <td>22</td>\n",
       "      <td>2</td>\n",
       "    </tr>\n",
       "    <tr>\n",
       "      <th>24</th>\n",
       "      <td>wednesday</td>\n",
       "      <td>06-01-2022</td>\n",
       "      <td>3</td>\n",
       "      <td>22</td>\n",
       "      <td>23</td>\n",
       "      <td>22</td>\n",
       "      <td>2</td>\n",
       "    </tr>\n",
       "    <tr>\n",
       "      <th>25</th>\n",
       "      <td>wednesday</td>\n",
       "      <td>06-01-2022</td>\n",
       "      <td>3</td>\n",
       "      <td>11</td>\n",
       "      <td>23</td>\n",
       "      <td>22</td>\n",
       "      <td>1</td>\n",
       "    </tr>\n",
       "    <tr>\n",
       "      <th>26</th>\n",
       "      <td>wednesday</td>\n",
       "      <td>06-01-2022</td>\n",
       "      <td>3</td>\n",
       "      <td>33</td>\n",
       "      <td>12</td>\n",
       "      <td>11</td>\n",
       "      <td>3</td>\n",
       "    </tr>\n",
       "    <tr>\n",
       "      <th>27</th>\n",
       "      <td>wednesday</td>\n",
       "      <td>06-01-2022</td>\n",
       "      <td>3</td>\n",
       "      <td>22</td>\n",
       "      <td>33</td>\n",
       "      <td>12</td>\n",
       "      <td>4</td>\n",
       "    </tr>\n",
       "    <tr>\n",
       "      <th>28</th>\n",
       "      <td>wednesday</td>\n",
       "      <td>06-01-2022</td>\n",
       "      <td>3</td>\n",
       "      <td>11</td>\n",
       "      <td>22</td>\n",
       "      <td>33</td>\n",
       "      <td>4</td>\n",
       "    </tr>\n",
       "    <tr>\n",
       "      <th>29</th>\n",
       "      <td>wednesday</td>\n",
       "      <td>06-01-2022</td>\n",
       "      <td>3</td>\n",
       "      <td>22</td>\n",
       "      <td>33</td>\n",
       "      <td>22</td>\n",
       "      <td>1</td>\n",
       "    </tr>\n",
       "  </tbody>\n",
       "</table>\n",
       "</div>"
      ],
      "text/plain": [
       "          Day        Date  CodedDay  Zone  Weather  Temperature  1\n",
       "0   Wednesday  06-01-2022         3     2       35           17  2\n",
       "1   Wednesday  06-01-2022         3     3       36           16  3\n",
       "2   Wednesday  06-01-2022         3     4       27           25  5\n",
       "3   Wednesday  06-01-2022         3     5       23           23  3\n",
       "4   Wednesday  06-01-2022         3     6       18           42  2\n",
       "5   Wednesday  06-01-2022         3     7       11           14  2\n",
       "6   Wednesday  06-01-2022         3     8       45           28  4\n",
       "7   Wednesday  06-01-2022         3     9       39           18  5\n",
       "8   Wednesday  06-01-2022         3    10       25            9  4\n",
       "9   Wednesday  06-01-2022         3    11       39            7  5\n",
       "10  Wednesday  06-01-2022         3    12       22           29  2\n",
       "11  Wednesday  06-01-2022         3    13       16           29  2\n",
       "12  Wednesday  06-01-2022         3    14       20           25  1\n",
       "13  Wednesday  06-01-2022         3    15       39           31  3\n",
       "14  Wednesday  06-01-2022         3    16       40           44  1\n",
       "15  Wednesday  06-01-2022         3    17        4           34  4\n",
       "16  Wednesday  06-01-2022         3    18       40           45  4\n",
       "17  Wednesday  06-01-2022         3    19        5           32  4\n",
       "18  Wednesday  06-01-2022         3    20       24           40  1\n",
       "19  wednesday  06-01-2022         3    12       21           22  2\n",
       "20  wednesday  06-01-2022         3    13       31           23  1\n",
       "21  wednesday  06-01-2022         3    11       21           22  2\n",
       "22  wednesday  06-01-2022         3    12       22           12  3\n",
       "23  wednesday  06-01-2022         3    11       23           22  2\n",
       "24  wednesday  06-01-2022         3    22       23           22  2\n",
       "25  wednesday  06-01-2022         3    11       23           22  1\n",
       "26  wednesday  06-01-2022         3    33       12           11  3\n",
       "27  wednesday  06-01-2022         3    22       33           12  4\n",
       "28  wednesday  06-01-2022         3    11       22           33  4\n",
       "29  wednesday  06-01-2022         3    22       33           22  1"
      ]
     },
     "execution_count": 4,
     "metadata": {},
     "output_type": "execute_result"
    }
   ],
   "source": [
    "data.head(30)"
   ]
  },
  {
   "cell_type": "code",
   "execution_count": 5,
   "id": "340a7c65",
   "metadata": {},
   "outputs": [
    {
     "data": {
      "text/html": [
       "<div>\n",
       "<style scoped>\n",
       "    .dataframe tbody tr th:only-of-type {\n",
       "        vertical-align: middle;\n",
       "    }\n",
       "\n",
       "    .dataframe tbody tr th {\n",
       "        vertical-align: top;\n",
       "    }\n",
       "\n",
       "    .dataframe thead th {\n",
       "        text-align: right;\n",
       "    }\n",
       "</style>\n",
       "<table border=\"1\" class=\"dataframe\">\n",
       "  <thead>\n",
       "    <tr style=\"text-align: right;\">\n",
       "      <th></th>\n",
       "      <th>Day</th>\n",
       "      <th>Date</th>\n",
       "      <th>CodedDay</th>\n",
       "      <th>Zone</th>\n",
       "      <th>Weather</th>\n",
       "      <th>Temperature</th>\n",
       "      <th>1</th>\n",
       "    </tr>\n",
       "  </thead>\n",
       "  <tbody>\n",
       "    <tr>\n",
       "      <th>1194</th>\n",
       "      <td>Sunday</td>\n",
       "      <td>18-01-2022</td>\n",
       "      <td>7</td>\n",
       "      <td>25</td>\n",
       "      <td>25</td>\n",
       "      <td>21</td>\n",
       "      <td>4</td>\n",
       "    </tr>\n",
       "    <tr>\n",
       "      <th>1195</th>\n",
       "      <td>Sunday</td>\n",
       "      <td>18-01-2022</td>\n",
       "      <td>7</td>\n",
       "      <td>24</td>\n",
       "      <td>26</td>\n",
       "      <td>22</td>\n",
       "      <td>4</td>\n",
       "    </tr>\n",
       "    <tr>\n",
       "      <th>1196</th>\n",
       "      <td>Sunday</td>\n",
       "      <td>18-01-2022</td>\n",
       "      <td>7</td>\n",
       "      <td>23</td>\n",
       "      <td>24</td>\n",
       "      <td>23</td>\n",
       "      <td>4</td>\n",
       "    </tr>\n",
       "    <tr>\n",
       "      <th>1197</th>\n",
       "      <td>Sunday</td>\n",
       "      <td>18-01-2022</td>\n",
       "      <td>7</td>\n",
       "      <td>22</td>\n",
       "      <td>23</td>\n",
       "      <td>24</td>\n",
       "      <td>4</td>\n",
       "    </tr>\n",
       "    <tr>\n",
       "      <th>1198</th>\n",
       "      <td>Sunday</td>\n",
       "      <td>18-01-2022</td>\n",
       "      <td>7</td>\n",
       "      <td>21</td>\n",
       "      <td>22</td>\n",
       "      <td>25</td>\n",
       "      <td>4</td>\n",
       "    </tr>\n",
       "  </tbody>\n",
       "</table>\n",
       "</div>"
      ],
      "text/plain": [
       "         Day        Date  CodedDay  Zone  Weather  Temperature  1\n",
       "1194  Sunday  18-01-2022         7    25       25           21  4\n",
       "1195  Sunday  18-01-2022         7    24       26           22  4\n",
       "1196  Sunday  18-01-2022         7    23       24           23  4\n",
       "1197  Sunday  18-01-2022         7    22       23           24  4\n",
       "1198  Sunday  18-01-2022         7    21       22           25  4"
      ]
     },
     "execution_count": 5,
     "metadata": {},
     "output_type": "execute_result"
    }
   ],
   "source": [
    "data.tail()"
   ]
  },
  {
   "cell_type": "code",
   "execution_count": 6,
   "id": "1794e824",
   "metadata": {},
   "outputs": [
    {
     "name": "stdout",
     "output_type": "stream",
     "text": [
      "<class 'pandas.core.frame.DataFrame'>\n",
      "RangeIndex: 1199 entries, 0 to 1198\n",
      "Data columns (total 7 columns):\n",
      " #   Column       Non-Null Count  Dtype \n",
      "---  ------       --------------  ----- \n",
      " 0   Day          1199 non-null   object\n",
      " 1   Date         1199 non-null   object\n",
      " 2   CodedDay     1199 non-null   int64 \n",
      " 3   Zone         1199 non-null   int64 \n",
      " 4   Weather      1199 non-null   int64 \n",
      " 5   Temperature  1199 non-null   int64 \n",
      " 6   1            1199 non-null   int64 \n",
      "dtypes: int64(5), object(2)\n",
      "memory usage: 65.7+ KB\n"
     ]
    }
   ],
   "source": [
    "data.info()"
   ]
  },
  {
   "cell_type": "code",
   "execution_count": 7,
   "id": "0baad9f5",
   "metadata": {},
   "outputs": [],
   "source": [
    "from sklearn.preprocessing import LabelEncoder"
   ]
  },
  {
   "cell_type": "code",
   "execution_count": 8,
   "id": "d0ff5cad",
   "metadata": {},
   "outputs": [],
   "source": [
    "le = LabelEncoder()"
   ]
  },
  {
   "cell_type": "code",
   "execution_count": 9,
   "id": "316113da",
   "metadata": {},
   "outputs": [
    {
     "data": {
      "text/html": [
       "<div>\n",
       "<style scoped>\n",
       "    .dataframe tbody tr th:only-of-type {\n",
       "        vertical-align: middle;\n",
       "    }\n",
       "\n",
       "    .dataframe tbody tr th {\n",
       "        vertical-align: top;\n",
       "    }\n",
       "\n",
       "    .dataframe thead th {\n",
       "        text-align: right;\n",
       "    }\n",
       "</style>\n",
       "<table border=\"1\" class=\"dataframe\">\n",
       "  <thead>\n",
       "    <tr style=\"text-align: right;\">\n",
       "      <th></th>\n",
       "      <th>Day</th>\n",
       "      <th>Date</th>\n",
       "      <th>CodedDay</th>\n",
       "      <th>Zone</th>\n",
       "      <th>Weather</th>\n",
       "      <th>Temperature</th>\n",
       "      <th>1</th>\n",
       "    </tr>\n",
       "  </thead>\n",
       "  <tbody>\n",
       "    <tr>\n",
       "      <th>0</th>\n",
       "      <td>Wednesday</td>\n",
       "      <td>1</td>\n",
       "      <td>3</td>\n",
       "      <td>2</td>\n",
       "      <td>35</td>\n",
       "      <td>17</td>\n",
       "      <td>2</td>\n",
       "    </tr>\n",
       "    <tr>\n",
       "      <th>1</th>\n",
       "      <td>Wednesday</td>\n",
       "      <td>1</td>\n",
       "      <td>3</td>\n",
       "      <td>3</td>\n",
       "      <td>36</td>\n",
       "      <td>16</td>\n",
       "      <td>3</td>\n",
       "    </tr>\n",
       "    <tr>\n",
       "      <th>2</th>\n",
       "      <td>Wednesday</td>\n",
       "      <td>1</td>\n",
       "      <td>3</td>\n",
       "      <td>4</td>\n",
       "      <td>27</td>\n",
       "      <td>25</td>\n",
       "      <td>5</td>\n",
       "    </tr>\n",
       "    <tr>\n",
       "      <th>3</th>\n",
       "      <td>Wednesday</td>\n",
       "      <td>1</td>\n",
       "      <td>3</td>\n",
       "      <td>5</td>\n",
       "      <td>23</td>\n",
       "      <td>23</td>\n",
       "      <td>3</td>\n",
       "    </tr>\n",
       "    <tr>\n",
       "      <th>4</th>\n",
       "      <td>Wednesday</td>\n",
       "      <td>1</td>\n",
       "      <td>3</td>\n",
       "      <td>6</td>\n",
       "      <td>18</td>\n",
       "      <td>42</td>\n",
       "      <td>2</td>\n",
       "    </tr>\n",
       "    <tr>\n",
       "      <th>...</th>\n",
       "      <td>...</td>\n",
       "      <td>...</td>\n",
       "      <td>...</td>\n",
       "      <td>...</td>\n",
       "      <td>...</td>\n",
       "      <td>...</td>\n",
       "      <td>...</td>\n",
       "    </tr>\n",
       "    <tr>\n",
       "      <th>1194</th>\n",
       "      <td>Sunday</td>\n",
       "      <td>12</td>\n",
       "      <td>7</td>\n",
       "      <td>25</td>\n",
       "      <td>25</td>\n",
       "      <td>21</td>\n",
       "      <td>4</td>\n",
       "    </tr>\n",
       "    <tr>\n",
       "      <th>1195</th>\n",
       "      <td>Sunday</td>\n",
       "      <td>12</td>\n",
       "      <td>7</td>\n",
       "      <td>24</td>\n",
       "      <td>26</td>\n",
       "      <td>22</td>\n",
       "      <td>4</td>\n",
       "    </tr>\n",
       "    <tr>\n",
       "      <th>1196</th>\n",
       "      <td>Sunday</td>\n",
       "      <td>12</td>\n",
       "      <td>7</td>\n",
       "      <td>23</td>\n",
       "      <td>24</td>\n",
       "      <td>23</td>\n",
       "      <td>4</td>\n",
       "    </tr>\n",
       "    <tr>\n",
       "      <th>1197</th>\n",
       "      <td>Sunday</td>\n",
       "      <td>12</td>\n",
       "      <td>7</td>\n",
       "      <td>22</td>\n",
       "      <td>23</td>\n",
       "      <td>24</td>\n",
       "      <td>4</td>\n",
       "    </tr>\n",
       "    <tr>\n",
       "      <th>1198</th>\n",
       "      <td>Sunday</td>\n",
       "      <td>12</td>\n",
       "      <td>7</td>\n",
       "      <td>21</td>\n",
       "      <td>22</td>\n",
       "      <td>25</td>\n",
       "      <td>4</td>\n",
       "    </tr>\n",
       "  </tbody>\n",
       "</table>\n",
       "<p>1199 rows × 7 columns</p>\n",
       "</div>"
      ],
      "text/plain": [
       "            Day  Date  CodedDay  Zone  Weather  Temperature  1\n",
       "0     Wednesday     1         3     2       35           17  2\n",
       "1     Wednesday     1         3     3       36           16  3\n",
       "2     Wednesday     1         3     4       27           25  5\n",
       "3     Wednesday     1         3     5       23           23  3\n",
       "4     Wednesday     1         3     6       18           42  2\n",
       "...         ...   ...       ...   ...      ...          ... ..\n",
       "1194     Sunday    12         7    25       25           21  4\n",
       "1195     Sunday    12         7    24       26           22  4\n",
       "1196     Sunday    12         7    23       24           23  4\n",
       "1197     Sunday    12         7    22       23           24  4\n",
       "1198     Sunday    12         7    21       22           25  4\n",
       "\n",
       "[1199 rows x 7 columns]"
      ]
     },
     "execution_count": 9,
     "metadata": {},
     "output_type": "execute_result"
    }
   ],
   "source": [
    "data['Date'] = le.fit_transform(data['Date'])\n",
    "data"
   ]
  },
  {
   "cell_type": "code",
   "execution_count": 10,
   "id": "23580546",
   "metadata": {},
   "outputs": [
    {
     "name": "stdout",
     "output_type": "stream",
     "text": [
      "<class 'pandas.core.frame.DataFrame'>\n",
      "RangeIndex: 1199 entries, 0 to 1198\n",
      "Data columns (total 7 columns):\n",
      " #   Column       Non-Null Count  Dtype \n",
      "---  ------       --------------  ----- \n",
      " 0   Day          1199 non-null   object\n",
      " 1   Date         1199 non-null   int32 \n",
      " 2   CodedDay     1199 non-null   int64 \n",
      " 3   Zone         1199 non-null   int64 \n",
      " 4   Weather      1199 non-null   int64 \n",
      " 5   Temperature  1199 non-null   int64 \n",
      " 6   1            1199 non-null   int64 \n",
      "dtypes: int32(1), int64(5), object(1)\n",
      "memory usage: 61.0+ KB\n"
     ]
    }
   ],
   "source": [
    "data.info()"
   ]
  },
  {
   "cell_type": "code",
   "execution_count": 11,
   "id": "e655f627",
   "metadata": {},
   "outputs": [],
   "source": [
    "x= data.iloc[:,2:6].values\n",
    "y= data.iloc[:,6:7].values"
   ]
  },
  {
   "cell_type": "code",
   "execution_count": 12,
   "id": "682f6412",
   "metadata": {},
   "outputs": [
    {
     "data": {
      "text/plain": [
       "array([[ 3,  2, 35, 17],\n",
       "       [ 3,  3, 36, 16],\n",
       "       [ 3,  4, 27, 25],\n",
       "       ...,\n",
       "       [ 7, 23, 24, 23],\n",
       "       [ 7, 22, 23, 24],\n",
       "       [ 7, 21, 22, 25]], dtype=int64)"
      ]
     },
     "execution_count": 12,
     "metadata": {},
     "output_type": "execute_result"
    }
   ],
   "source": [
    "x"
   ]
  },
  {
   "cell_type": "code",
   "execution_count": 13,
   "id": "bac28fbf",
   "metadata": {},
   "outputs": [
    {
     "data": {
      "text/plain": [
       "(1199, 4)"
      ]
     },
     "execution_count": 13,
     "metadata": {},
     "output_type": "execute_result"
    }
   ],
   "source": [
    "x.shape"
   ]
  },
  {
   "cell_type": "code",
   "execution_count": 14,
   "id": "6fe2c2f5",
   "metadata": {},
   "outputs": [],
   "source": [
    "y=y.flatten()"
   ]
  },
  {
   "cell_type": "code",
   "execution_count": 15,
   "id": "5b40d65d",
   "metadata": {},
   "outputs": [
    {
     "data": {
      "text/plain": [
       "(1199,)"
      ]
     },
     "execution_count": 15,
     "metadata": {},
     "output_type": "execute_result"
    }
   ],
   "source": [
    "y.shape"
   ]
  },
  {
   "cell_type": "code",
   "execution_count": 16,
   "id": "9635a926",
   "metadata": {},
   "outputs": [],
   "source": [
    "from sklearn.model_selection import train_test_split"
   ]
  },
  {
   "cell_type": "code",
   "execution_count": 17,
   "id": "52a8cf6a",
   "metadata": {},
   "outputs": [],
   "source": [
    "x_train, x_test, y_train, y_test = train_test_split(x,y,test_size=0.20,random_state=0\n",
    "                                                   )"
   ]
  },
  {
   "cell_type": "code",
   "execution_count": 18,
   "id": "23f8224c",
   "metadata": {},
   "outputs": [
    {
     "data": {
      "text/plain": [
       "((959, 4), (959,))"
      ]
     },
     "execution_count": 18,
     "metadata": {},
     "output_type": "execute_result"
    }
   ],
   "source": [
    "x_train.shape,y_train.shape"
   ]
  },
  {
   "cell_type": "code",
   "execution_count": 19,
   "id": "ab49745b",
   "metadata": {},
   "outputs": [
    {
     "data": {
      "text/plain": [
       "((240, 4), (240,))"
      ]
     },
     "execution_count": 19,
     "metadata": {},
     "output_type": "execute_result"
    }
   ],
   "source": [
    "x_test.shape,y_test.shape"
   ]
  },
  {
   "cell_type": "code",
   "execution_count": 20,
   "id": "88c97fda",
   "metadata": {},
   "outputs": [],
   "source": [
    "#feature Scaling\n",
    "\n",
    "from sklearn.preprocessing import StandardScaler"
   ]
  },
  {
   "cell_type": "code",
   "execution_count": 21,
   "id": "bf9a9405",
   "metadata": {},
   "outputs": [],
   "source": [
    "sc= StandardScaler()"
   ]
  },
  {
   "cell_type": "code",
   "execution_count": 22,
   "id": "dcbc74c7",
   "metadata": {},
   "outputs": [],
   "source": [
    "x_train= sc.fit_transform(x_train)\n",
    "x_test= sc.fit_transform(x_test)"
   ]
  },
  {
   "cell_type": "code",
   "execution_count": 23,
   "id": "7ee28e03",
   "metadata": {},
   "outputs": [
    {
     "data": {
      "text/plain": [
       "array([[ 0.25719785, -1.06801338,  0.41419277, -1.02590952],\n",
       "       [-0.89269836, -1.42124308, -1.03828836, -0.81125974],\n",
       "       [ 1.40709406,  0.48619729,  1.09771331,  1.01326331],\n",
       "       ...,\n",
       "       [-0.31775026,  0.06232165, -1.03828836, -0.81125974],\n",
       "       [-1.46764647, -0.22026211, -1.12372843, -0.91858463],\n",
       "       [-0.89269836, -1.42124308, -0.01300756, -0.81125974]])"
      ]
     },
     "execution_count": 23,
     "metadata": {},
     "output_type": "execute_result"
    }
   ],
   "source": [
    "x_train"
   ]
  },
  {
   "cell_type": "code",
   "execution_count": 24,
   "id": "1ef6664c",
   "metadata": {},
   "outputs": [],
   "source": [
    "#random forest\n",
    "from sklearn.ensemble import RandomForestRegressor\n",
    "regressor=RandomForestRegressor(n_estimators=300, random_state = 0)"
   ]
  },
  {
   "cell_type": "code",
   "execution_count": 25,
   "id": "75e09f9b",
   "metadata": {},
   "outputs": [
    {
     "data": {
      "text/plain": [
       "RandomForestRegressor(n_estimators=300, random_state=0)"
      ]
     },
     "execution_count": 25,
     "metadata": {},
     "output_type": "execute_result"
    }
   ],
   "source": [
    " regressor.fit(x_train,y_train)"
   ]
  },
  {
   "cell_type": "code",
   "execution_count": 26,
   "id": "585dfcc6",
   "metadata": {},
   "outputs": [],
   "source": [
    "y_pred=regressor.predict(x_test)"
   ]
  },
  {
   "cell_type": "code",
   "execution_count": 27,
   "id": "8d057e68",
   "metadata": {},
   "outputs": [
    {
     "data": {
      "text/plain": [
       "array([2.44666667, 3.76239438, 2.67      , 2.88      , 2.51611111,\n",
       "       3.21333333, 2.6       , 2.4618924 , 3.07      , 2.61333333,\n",
       "       3.76239438, 2.75486324, 3.76239438, 3.76239438, 3.74975938,\n",
       "       2.82066667, 2.98368783, 3.1228459 , 1.60888889, 2.69333333,\n",
       "       2.85911697, 2.74909349, 1.55333333, 1.62      , 2.69396888,\n",
       "       2.8493433 , 3.68638377, 3.1228459 , 2.83      , 1.895     ,\n",
       "       3.46333333, 2.65666667, 3.52337703, 2.34944444, 3.72701797,\n",
       "       3.41      , 3.1228459 , 2.85911697, 2.44      , 2.83666667,\n",
       "       2.08611111, 2.22666667, 2.73333333, 3.92666667, 2.18333333,\n",
       "       2.37333333, 3.76239438, 2.24638889, 2.75486324, 1.98666667,\n",
       "       2.77083333, 3.64666667, 3.05      , 3.67      , 2.55666667,\n",
       "       3.84666667, 1.76472222, 3.12444444, 2.03444444, 2.85911697,\n",
       "       3.51666667, 3.08      , 3.05103738, 3.79666667, 2.45      ,\n",
       "       3.71333333, 3.55013149, 2.81666667, 3.74666667, 3.61333333,\n",
       "       2.79666667, 3.11333333, 7.15333333, 3.55666667, 2.75666667,\n",
       "       2.04333333, 2.98666667, 3.33      , 3.68735786, 2.88      ,\n",
       "       2.85911697, 2.12      , 2.35333333, 3.45666667, 3.37035403,\n",
       "       1.82468753, 1.79158309, 3.34      , 2.45333333, 4.12913462,\n",
       "       3.26333333, 3.04      , 3.6078295 , 2.37666667, 3.41333333,\n",
       "       1.91333333, 3.68638377, 3.8       , 3.23666667, 3.46      ,\n",
       "       3.12649692, 3.76239438, 2.22      , 3.52337703, 2.8493433 ,\n",
       "       1.38666667, 2.4       , 3.52337703, 3.07      , 2.11473182,\n",
       "       2.98333333, 2.11      , 3.72      , 3.1       , 3.46666667,\n",
       "       3.        , 2.9       , 3.03666667, 3.45333333, 3.12333333,\n",
       "       2.68333333, 3.00666667, 2.75666667, 3.84527778, 1.52861111,\n",
       "       2.30666667, 2.27666667, 2.98      , 3.02666667, 3.35666667,\n",
       "       3.43333333, 2.02      , 3.274     , 3.46026198, 2.85911697,\n",
       "       4.29246795, 3.3       , 2.69666667, 3.1228459 , 3.8       ,\n",
       "       3.85180997, 2.26666667, 1.94866667, 2.68      , 2.85911697,\n",
       "       3.43733333, 2.20666667, 4.02333333, 2.59333333, 1.91666667,\n",
       "       2.75486324, 2.90735294, 2.65      , 2.70333333, 2.17444444,\n",
       "       1.6       , 2.45666667, 2.53      , 2.76333333, 3.68638377,\n",
       "       1.34      , 2.53333333, 1.95944444, 2.45333333, 2.86666667,\n",
       "       2.01666667, 3.65333333, 1.81333333, 2.82333333, 3.52337703,\n",
       "       1.77333333, 3.27089286, 4.06666667, 3.52337703, 3.01666667,\n",
       "       2.97333333, 3.73666667, 1.86333333, 4.72      , 3.94      ,\n",
       "       2.94666667, 1.94333333, 3.02666667, 3.07      , 2.42333333,\n",
       "       3.81380952, 2.14666667, 3.76239438, 4.13666667, 2.00333333,\n",
       "       3.18333333, 2.92666667, 1.80555556, 3.96333333, 3.52337703,\n",
       "       2.86851852, 3.66454834, 3.86986111, 2.82333333, 2.21      ,\n",
       "       3.24333333, 2.79666667, 1.86916667, 2.32333333, 1.60888889,\n",
       "       3.11      , 1.97166667, 2.23666667, 2.31947465, 3.52574723,\n",
       "       2.46333333, 2.85911697, 2.42666667, 2.99333333, 1.96333333,\n",
       "       3.52337703, 2.98666667, 3.68638377, 2.76333333, 3.855     ,\n",
       "       3.48333333, 2.46333333, 4.29666667, 2.85911697, 4.06      ,\n",
       "       3.86333333, 3.76239438, 3.00333333, 3.52337703, 3.05333333,\n",
       "       2.87583333, 3.41666667, 1.25      , 3.76239438, 2.85911697,\n",
       "       2.84666667, 1.60888889, 3.31832139, 1.32      , 2.13333333])"
      ]
     },
     "execution_count": 27,
     "metadata": {},
     "output_type": "execute_result"
    }
   ],
   "source": [
    "y_pred"
   ]
  },
  {
   "cell_type": "code",
   "execution_count": 28,
   "id": "1fdbdf4e",
   "metadata": {},
   "outputs": [
    {
     "data": {
      "text/plain": [
       "array([2., 3., 2., 2., 2., 3., 2., 2., 3., 2., 3., 2., 3., 3., 3., 2., 2.,\n",
       "       3., 1., 2., 2., 2., 1., 1., 2., 2., 3., 3., 2., 1., 3., 2., 3., 2.,\n",
       "       3., 3., 3., 2., 2., 2., 2., 2., 2., 3., 2., 2., 3., 2., 2., 1., 2.,\n",
       "       3., 3., 3., 2., 3., 1., 3., 2., 2., 3., 3., 3., 3., 2., 3., 3., 2.,\n",
       "       3., 3., 2., 3., 7., 3., 2., 2., 2., 3., 3., 2., 2., 2., 2., 3., 3.,\n",
       "       1., 1., 3., 2., 4., 3., 3., 3., 2., 3., 1., 3., 3., 3., 3., 3., 3.,\n",
       "       2., 3., 2., 1., 2., 3., 3., 2., 2., 2., 3., 3., 3., 2., 2., 3., 3.,\n",
       "       3., 2., 3., 2., 3., 1., 2., 2., 2., 3., 3., 3., 2., 3., 3., 2., 4.,\n",
       "       3., 2., 3., 3., 3., 2., 1., 2., 2., 3., 2., 4., 2., 1., 2., 2., 2.,\n",
       "       2., 2., 1., 2., 2., 2., 3., 1., 2., 1., 2., 2., 2., 3., 1., 2., 3.,\n",
       "       1., 3., 4., 3., 3., 2., 3., 1., 4., 3., 2., 1., 3., 3., 2., 3., 2.,\n",
       "       3., 4., 2., 3., 2., 1., 3., 3., 2., 3., 3., 2., 2., 3., 2., 1., 2.,\n",
       "       1., 3., 1., 2., 2., 3., 2., 2., 2., 2., 1., 3., 2., 3., 2., 3., 3.,\n",
       "       2., 4., 2., 4., 3., 3., 3., 3., 3., 2., 3., 1., 3., 2., 2., 1., 3.,\n",
       "       1., 2.])"
      ]
     },
     "execution_count": 28,
     "metadata": {},
     "output_type": "execute_result"
    }
   ],
   "source": [
    "if(y_pred.all()<2.5):\n",
    "    y_pred = np.round(y_pred-0.5)\n",
    "else:\n",
    "    y_pred = np.round(y_pred+0.5)\n",
    "y_pred"
   ]
  },
  {
   "cell_type": "code",
   "execution_count": 29,
   "id": "39aed97c",
   "metadata": {},
   "outputs": [
    {
     "name": "stdout",
     "output_type": "stream",
     "text": [
      "Error =  2.75 %\n"
     ]
    }
   ],
   "source": [
    "df= (y_pred-y_test)/y_test\n",
    "df= round(df.mean()*100,2)\n",
    "print(\"Error = \",df,\"%\")"
   ]
  },
  {
   "cell_type": "code",
   "execution_count": 30,
   "id": "7068a2da",
   "metadata": {
    "scrolled": true
   },
   "outputs": [
    {
     "name": "stdout",
     "output_type": "stream",
     "text": [
      "Accuracy=  97.25 %\n"
     ]
    }
   ],
   "source": [
    "a = 100-df\n",
    "print(\"Accuracy= \",a,\"%\")\n"
   ]
  },
  {
   "cell_type": "code",
   "execution_count": 31,
   "id": "12ec089f",
   "metadata": {},
   "outputs": [],
   "source": [
    "#SVM\n",
    "from sklearn.svm import SVR\n",
    "regressor= SVR(kernel='rbf')\n",
    "regressor.fit(x_train,y_train)\n",
    "y_pred = regressor.predict(x_test)\n",
    "# y_pred"
   ]
  },
  {
   "cell_type": "code",
   "execution_count": 32,
   "id": "99bc32f9",
   "metadata": {},
   "outputs": [
    {
     "name": "stdout",
     "output_type": "stream",
     "text": [
      "[2. 2. 2. 2. 2. 3. 1. 2. 3. 2. 2. 2. 2. 2. 2. 3. 2. 2. 2. 2. 2. 2. 2. 2.\n",
      " 2. 2. 3. 2. 2. 1. 3. 2. 2. 2. 2. 3. 2. 2. 2. 3. 2. 1. 2. 2. 2. 2. 2. 2.\n",
      " 2. 2. 2. 3. 3. 3. 2. 3. 2. 2. 2. 2. 2. 3. 3. 2. 2. 2. 2. 3. 3. 3. 2. 3.\n",
      " 3. 3. 2. 2. 2. 2. 2. 2. 2. 2. 2. 2. 2. 2. 2. 3. 3. 2. 3. 3. 2. 1. 3. 2.\n",
      " 3. 3. 3. 3. 3. 2. 3. 2. 2. 2. 2. 2. 2. 2. 2. 2. 3. 2. 2. 3. 2. 2. 2. 2.\n",
      " 2. 2. 2. 2. 2. 2. 2. 2. 2. 3. 2. 2. 3. 3. 2. 2. 3. 2. 2. 3. 2. 2. 2. 2.\n",
      " 2. 3. 2. 3. 2. 1. 2. 2. 3. 2. 2. 2. 2. 3. 2. 3. 2. 3. 2. 2. 2. 2. 2. 2.\n",
      " 2. 2. 2. 2. 4. 2. 2. 2. 2. 2. 4. 3. 3. 2. 3. 2. 2. 3. 2. 2. 4. 2. 3. 3.\n",
      " 2. 2. 2. 3. 2. 3. 2. 2. 2. 2. 1. 2. 2. 2. 2. 2. 2. 2. 1. 2. 2. 3. 2. 2.\n",
      " 2. 3. 2. 3. 2. 2. 2. 2. 2. 2. 2. 3. 2. 2. 2. 3. 1. 2. 2. 3. 2. 2. 2. 2.]\n"
     ]
    }
   ],
   "source": [
    "if(y_pred.all()<2.5):\n",
    "    y_pred = np.round(y_pred-0.5)\n",
    "else:\n",
    "    y_pred = np.round(y_pred+0.5)\n",
    "print(y_pred)"
   ]
  },
  {
   "cell_type": "code",
   "execution_count": 33,
   "id": "82f7e700",
   "metadata": {},
   "outputs": [
    {
     "name": "stdout",
     "output_type": "stream",
     "text": [
      "Error =  0.15 %\n"
     ]
    }
   ],
   "source": [
    "df= (y_pred-y_test)/y_test\n",
    "df= round(df.mean()*100,2)\n",
    "print(\"Error = \",df,\"%\")"
   ]
  },
  {
   "cell_type": "code",
   "execution_count": 34,
   "id": "8138f7b5",
   "metadata": {},
   "outputs": [
    {
     "name": "stdout",
     "output_type": "stream",
     "text": [
      "Accuracy=  99.85 %\n"
     ]
    }
   ],
   "source": [
    "a = 100-df\n",
    "print(\"Accuracy= \",a,\"%\")"
   ]
  },
  {
   "cell_type": "code",
   "execution_count": null,
   "id": "c294fb75",
   "metadata": {},
   "outputs": [],
   "source": []
  }
 ],
 "metadata": {
  "kernelspec": {
   "display_name": "Python 3 (ipykernel)",
   "language": "python",
   "name": "python3"
  },
  "language_info": {
   "codemirror_mode": {
    "name": "ipython",
    "version": 3
   },
   "file_extension": ".py",
   "mimetype": "text/x-python",
   "name": "python",
   "nbconvert_exporter": "python",
   "pygments_lexer": "ipython3",
   "version": "3.9.13"
  }
 },
 "nbformat": 4,
 "nbformat_minor": 5
}
